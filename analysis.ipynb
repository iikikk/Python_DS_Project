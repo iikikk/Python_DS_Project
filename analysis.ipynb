{
 "cells": [
  {
   "cell_type": "code",
   "execution_count": 1,
   "metadata": {},
   "outputs": [],
   "source": [
    "import pandas as pd\n",
    "import matplotlib.pyplot as plt\n",
    "import seaborn as sns"
   ]
  },
  {
   "cell_type": "code",
   "execution_count": 2,
   "metadata": {},
   "outputs": [
    {
     "name": "stdout",
     "output_type": "stream",
     "text": [
      "First few rows of the dataset:\n",
      "   Year Date Of Incident Route        Operator  Group Name  \\\n",
      "0  2015       2015-01-01     1  London General    Go-Ahead   \n",
      "1  2015       2015-01-01     4       Metroline   Metroline   \n",
      "2  2015       2015-01-01     5     East London  Stagecoach   \n",
      "3  2015       2015-01-01     5     East London  Stagecoach   \n",
      "4  2015       2015-01-01     6       Metroline   Metroline   \n",
      "\n",
      "             Bus Garage              Borough  \\\n",
      "0  Garage Not Available            Southwark   \n",
      "1  Garage Not Available            Islington   \n",
      "2  Garage Not Available             Havering   \n",
      "3  Garage Not Available  None London Borough   \n",
      "4  Garage Not Available          Westminster   \n",
      "\n",
      "                           Injury Result Description Incident Event Type  \\\n",
      "0                          Injuries treated on scene    Onboard Injuries   \n",
      "1                          Injuries treated on scene    Onboard Injuries   \n",
      "2  Taken to Hospital – Reported Serious Injury or...    Onboard Injuries   \n",
      "3  Taken to Hospital – Reported Serious Injury or...    Onboard Injuries   \n",
      "4        Reported Minor Injury - Treated at Hospital    Onboard Injuries   \n",
      "\n",
      "  Victim Category Victims Sex Victims Age  \n",
      "0       Passenger        Male       Child  \n",
      "1       Passenger        Male     Unknown  \n",
      "2       Passenger        Male     Elderly  \n",
      "3       Passenger        Male     Elderly  \n",
      "4      Pedestrian      Female     Elderly  \n",
      "\n",
      "Data types of each column:\n",
      "Year                                  int64\n",
      "Date Of Incident             datetime64[ns]\n",
      "Route                                object\n",
      "Operator                             object\n",
      "Group Name                           object\n",
      "Bus Garage                           object\n",
      "Borough                              object\n",
      "Injury Result Description            object\n",
      "Incident Event Type                  object\n",
      "Victim Category                      object\n",
      "Victims Sex                          object\n",
      "Victims Age                          object\n",
      "dtype: object\n"
     ]
    }
   ],
   "source": [
    "# Reads dataset\n",
    "file_path = 'TFL Bus Safety.xlsx'\n",
    "data = pd.read_excel(file_path, sheet_name='Sheet1')\n",
    "\n",
    "print(\"First few rows of the dataset:\")\n",
    "print(data.head())\n",
    "\n",
    "print(\"\\nData types of each column:\")\n",
    "print(data.dtypes)"
   ]
  },
  {
   "cell_type": "code",
   "execution_count": 3,
   "metadata": {},
   "outputs": [
    {
     "name": "stdout",
     "output_type": "stream",
     "text": [
      "                Year               Date Of Incident  Route   Operator  \\\n",
      "count   23158.000000                          23158  23158      23158   \n",
      "unique           NaN                            NaN    612         25   \n",
      "top              NaN                            NaN    OOS  Metroline   \n",
      "freq             NaN                            NaN    321       3457   \n",
      "mean     2016.449607  2016-11-22 09:11:29.282321408    NaN        NaN   \n",
      "min      2015.000000            2015-01-01 00:00:00    NaN        NaN   \n",
      "25%      2016.000000            2016-01-01 00:00:00    NaN        NaN   \n",
      "50%      2016.000000            2016-12-01 00:00:00    NaN        NaN   \n",
      "75%      2017.000000            2017-11-01 00:00:00    NaN        NaN   \n",
      "max      2018.000000            2018-09-01 00:00:00    NaN        NaN   \n",
      "std         1.074073                            NaN    NaN        NaN   \n",
      "\n",
      "           Group Name            Bus Garage      Borough  \\\n",
      "count           23158                 23158        23158   \n",
      "unique             14                    84           35   \n",
      "top     Arriva London  Garage Not Available  Westminster   \n",
      "freq             4945                  8572         1571   \n",
      "mean              NaN                   NaN          NaN   \n",
      "min               NaN                   NaN          NaN   \n",
      "25%               NaN                   NaN          NaN   \n",
      "50%               NaN                   NaN          NaN   \n",
      "75%               NaN                   NaN          NaN   \n",
      "max               NaN                   NaN          NaN   \n",
      "std               NaN                   NaN          NaN   \n",
      "\n",
      "        Injury Result Description Incident Event Type Victim Category  \\\n",
      "count                       23158               23158           23158   \n",
      "unique                          4                  10              17   \n",
      "top     Injuries treated on scene      Slip Trip Fall       Passenger   \n",
      "freq                        17336                6981           18828   \n",
      "mean                          NaN                 NaN             NaN   \n",
      "min                           NaN                 NaN             NaN   \n",
      "25%                           NaN                 NaN             NaN   \n",
      "50%                           NaN                 NaN             NaN   \n",
      "75%                           NaN                 NaN             NaN   \n",
      "max                           NaN                 NaN             NaN   \n",
      "std                           NaN                 NaN             NaN   \n",
      "\n",
      "       Victims Sex Victims Age  \n",
      "count        23158       23158  \n",
      "unique           3           5  \n",
      "top         Female       Adult  \n",
      "freq         11847       10754  \n",
      "mean           NaN         NaN  \n",
      "min            NaN         NaN  \n",
      "25%            NaN         NaN  \n",
      "50%            NaN         NaN  \n",
      "75%            NaN         NaN  \n",
      "max            NaN         NaN  \n",
      "std            NaN         NaN  \n",
      " Summary Statistics for Year:\n",
      "mean      2016.449607\n",
      "median    2016.000000\n",
      "std          1.074073\n",
      "Name: Year, dtype: float64\n"
     ]
    }
   ],
   "source": [
    "# Summary statistics\n",
    "statistics = data.describe(include='all')\n",
    "print(statistics)\n",
    "\n",
    "year_stats = data['Year'].agg(['mean', 'median', 'std'])\n",
    "print(f\" Summary Statistics for Year:\\n{year_stats}\")\n"
   ]
  },
  {
   "cell_type": "code",
   "execution_count": 4,
   "metadata": {},
   "outputs": [
    {
     "data": {
      "image/png": "[encoded data removed]",
      "text/plain": [
       "<Figure size 1000x600 with 1 Axes>"
      ]
     },
     "metadata": {},
     "output_type": "display_data"
    }
   ],
   "source": [
    "# Data visualization\n",
    "plt.figure(figsize=(10, 6))\n",
    "sns.histplot(data['Year'], kde=False, color='blue')\n",
    "plt.title('Distribution of Incident Years')\n",
    "plt.xlabel('Year')\n",
    "plt.ylabel('Frequency')\n",
    "plt.grid(True)\n",
    "plt.savefig('./incident_years_histogram.png')\n",
    "plt.show()"
   ]
  }
 ],
 "metadata": {
  "kernelspec": {
   "display_name": "jpt",
   "language": "python",
   "name": "jpt"
  },
  "language_info": {
   "codemirror_mode": {
    "name": "ipython",
    "version": 3
   },
   "file_extension": ".py",
   "mimetype": "text/x-python",
   "name": "python",
   "nbconvert_exporter": "python",
   "pygments_lexer": "ipython3",
   "version": "3.8.19"
  }
 },
 "nbformat": 4,
 "nbformat_minor": 2
}
